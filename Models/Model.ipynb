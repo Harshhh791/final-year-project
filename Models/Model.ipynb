{
  "nbformat": 4,
  "nbformat_minor": 0,
  "metadata": {
    "colab": {
      "provenance": []
    },
    "kernelspec": {
      "name": "python3",
      "display_name": "Python 3"
    },
    "language_info": {
      "name": "python"
    }
  },
  "cells": [
    {
      "cell_type": "code",
      "source": [
        "import pandas as pd\n",
        "from sklearn.model_selection import train_test_split\n",
        "from sklearn.ensemble import RandomForestClassifier\n",
        "from sklearn.preprocessing import LabelEncoder, StandardScaler\n",
        "\n",
        "# Load the dataset\n",
        "df = pd.read_csv(\"/content/Data4.csv\")\n",
        "\n",
        "# Split the dataset into features (X) and target (y)\n",
        "X = df.drop(columns=[\"StudentID\", \"Scholarship\"])\n",
        "y = df[\"Scholarship\"]\n",
        "\n",
        "# Encode categorical features\n",
        "X_encoded = pd.get_dummies(X)\n",
        "\n",
        "# Scale numerical features\n",
        "scaler = StandardScaler()\n",
        "X_scaled = scaler.fit_transform(X_encoded)\n",
        "\n",
        "# Initialize LabelEncoder\n",
        "label_encoder = LabelEncoder()\n",
        "\n",
        "# Encode target labels\n",
        "y_encoded = label_encoder.fit_transform(y)\n",
        "\n",
        "# Split the dataset into training and testing sets\n",
        "X_train, X_test, y_train, y_test = train_test_split(X_scaled, y_encoded, test_size=0.2, random_state=42)\n",
        "\n",
        "# Train Random Forest model\n",
        "rf_model = RandomForestClassifier(random_state=42)\n",
        "rf_model.fit(X_train, y_train)\n",
        "\n",
        "# Evaluate the model\n",
        "train_score = rf_model.score(X_train, y_train)\n",
        "test_score = rf_model.score(X_test, y_test)\n",
        "\n",
        "print(\"Training accuracy:\", train_score)\n",
        "print(\"Testing accuracy:\", test_score)"
      ],
      "metadata": {
        "colab": {
          "base_uri": "https://localhost:8080/"
        },
        "id": "aGZdgUBuzB2E",
        "outputId": "cc1fa527-7261-41f3-d565-ae62a219b662"
      },
      "execution_count": 3,
      "outputs": [
        {
          "output_type": "stream",
          "name": "stdout",
          "text": [
            "Training accuracy: 1.0\n",
            "Testing accuracy: 0.9867998572957546\n"
          ]
        }
      ]
    },
    {
      "cell_type": "code",
      "source": [
        "import pandas as pd\n",
        "from sklearn.model_selection import train_test_split\n",
        "from sklearn.ensemble import RandomForestClassifier\n",
        "from sklearn.linear_model import LogisticRegression\n",
        "from sklearn.svm import SVC\n",
        "from sklearn.preprocessing import LabelEncoder, StandardScaler\n",
        "\n",
        "# Load the dataset\n",
        "df = pd.read_csv(\"/content/Data4.csv\")\n",
        "\n",
        "# Split the dataset into features (X) and target (y)\n",
        "X = df.drop(columns=[\"StudentID\", \"Scholarship\"])\n",
        "y = df[\"Scholarship\"]\n",
        "\n",
        "# Encode categorical features\n",
        "X_encoded = pd.get_dummies(X)\n",
        "\n",
        "# Scale numerical features\n",
        "scaler = StandardScaler()\n",
        "X_scaled = scaler.fit_transform(X_encoded)\n",
        "\n",
        "# Initialize LabelEncoder\n",
        "label_encoder = LabelEncoder()\n",
        "\n",
        "# Encode target labels\n",
        "y_encoded = label_encoder.fit_transform(y)\n",
        "\n",
        "# Split the dataset into training and testing sets\n",
        "X_train, X_test, y_train, y_test = train_test_split(X_scaled, y_encoded, test_size=0.2, random_state=42)\n",
        "\n",
        "# Train Logistic Regression model\n",
        "lr_model = LogisticRegression(max_iter=1000, random_state=42)\n",
        "lr_model.fit(X_train, y_train)\n",
        "\n",
        "# Train Random Forest model\n",
        "rf_model = RandomForestClassifier(random_state=42)\n",
        "rf_model.fit(X_train, y_train)\n",
        "\n",
        "# Train Support Vector Machine (SVM) model\n",
        "svm_model = SVC(kernel='linear', random_state=42)\n",
        "svm_model.fit(X_train, y_train)\n",
        "\n",
        "# Evaluate models\n",
        "lr_train_score = lr_model.score(X_train, y_train)\n",
        "lr_test_score = lr_model.score(X_test, y_test)\n",
        "\n",
        "rf_train_score = rf_model.score(X_train, y_train)\n",
        "rf_test_score = rf_model.score(X_test, y_test)\n",
        "\n",
        "svm_train_score = svm_model.score(X_train, y_train)\n",
        "svm_test_score = svm_model.score(X_test, y_test)\n",
        "\n",
        "# Print accuracy scores\n",
        "print(\"Logistic Regression - Training accuracy:\", lr_train_score)\n",
        "print(\"Logistic Regression - Testing accuracy:\", lr_test_score)\n",
        "print(\"Random Forest - Training accuracy:\", rf_train_score)\n",
        "print(\"Random Forest - Testing accuracy:\", rf_test_score)\n",
        "print(\"SVM - Training accuracy:\", svm_train_score)\n",
        "print(\"SVM - Testing accuracy:\", svm_test_score)\n",
        "\n",
        "# Save the model with the best testing accuracy\n",
        "best_model = max([(lr_model, lr_test_score), (rf_model, rf_test_score), (svm_model, svm_test_score)], key=lambda x: x[1])[0]\n",
        "\n",
        "# Save the best model to a file\n",
        "import joblib\n",
        "joblib.dump(best_model, 'best_model.pkl')"
      ],
      "metadata": {
        "colab": {
          "base_uri": "https://localhost:8080/"
        },
        "id": "UQIbt-C8zFud",
        "outputId": "d11983a4-bf3e-4c40-cbe6-113c0abfe3c9"
      },
      "execution_count": 4,
      "outputs": [
        {
          "output_type": "stream",
          "name": "stdout",
          "text": [
            "Logistic Regression - Training accuracy: 0.9246966452533905\n",
            "Logistic Regression - Testing accuracy: 0.9225829468426686\n",
            "Random Forest - Training accuracy: 1.0\n",
            "Random Forest - Testing accuracy: 0.9867998572957546\n",
            "SVM - Training accuracy: 0.9750178443968593\n",
            "SVM - Testing accuracy: 0.9500535140920442\n"
          ]
        },
        {
          "output_type": "execute_result",
          "data": {
            "text/plain": [
              "['best_model.pkl']"
            ]
          },
          "metadata": {},
          "execution_count": 4
        }
      ]
    },
    {
      "cell_type": "code",
      "source": [],
      "metadata": {
        "id": "uTjRhw5SznPm"
      },
      "execution_count": null,
      "outputs": []
    }
  ]
}